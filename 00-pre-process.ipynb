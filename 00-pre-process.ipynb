{
 "cells": [
  {
   "cell_type": "markdown",
   "id": "bc78dd10-53fa-4699-96f4-404ec2a5d8ac",
   "metadata": {},
   "source": [
    "# PMA3: Preprocessing"
   ]
  },
  {
   "cell_type": "markdown",
   "id": "73fd2bbb-1a33-49ea-be06-8980064f155f",
   "metadata": {},
   "source": [
    "Notebook for doing all the calcuating and preprocessing for PMA3\n",
    "\n",
    "Look over the config settings.\n",
    "I personally change the settings to make data for different kinds of models. Mainly small, medium and long songs.  \n",
    "There is some overlap with them, just so each model has an actual dataset to work with."
   ]
  },
  {
   "cell_type": "markdown",
   "id": "3b9582eb-cf59-45d1-b20a-1b4ff6378d49",
   "metadata": {
    "tags": []
   },
   "source": [
    "## Config"
   ]
  },
  {
   "cell_type": "markdown",
   "id": "b2d1e8b2-ad26-411f-bd86-bd8fa3ad2b12",
   "metadata": {
    "tags": []
   },
   "source": [
    "### Data Settings"
   ]
  },
  {
   "cell_type": "markdown",
   "id": "4930d334-ac33-4efa-8bdf-bf7cb4551a2a",
   "metadata": {},
   "source": [
    "#### Mininum Song Length\n",
    "A song has to be this long to even be processed.  \n",
    "If padding is **DISABLED**, this is the size songs will be sliced into! *Cannot be 0!*"
   ]
  },
  {
   "cell_type": "code",
   "execution_count": null,
   "id": "553597a5-7cbf-41ca-94de-b5a581640b54",
   "metadata": {},
   "outputs": [],
   "source": [
    "min_song_length_seconds = 60"
   ]
  },
  {
   "cell_type": "markdown",
   "id": "8f8214af-bcec-447e-a2e8-59da47da1555",
   "metadata": {},
   "source": [
    "#### Maxinum Song Length\n",
    "A song has to be shorter than this to even be processed"
   ]
  },
  {
   "cell_type": "code",
   "execution_count": null,
   "id": "29a2aab8-a052-4aaf-a5ac-5b5c7ea471ee",
   "metadata": {},
   "outputs": [],
   "source": [
    "max_song_length_seconds = 540"
   ]
  },
  {
   "cell_type": "markdown",
   "id": "e1e9bda3-9fc8-4277-8c0e-6417a08157e9",
   "metadata": {},
   "source": [
    "#### Enable Padding / Whole Song Analysis\n",
    "If a song is shorter than the max length, pad it with zeros.  \n",
    "This is desirable because it forces the model to train on the whole song rather than just learning from small segments.  \n",
    "Downside is the larger memory usage.  "
   ]
  },
  {
   "cell_type": "code",
   "execution_count": null,
   "id": "5391d7de-f9e7-45fe-938f-24c6406d671d",
   "metadata": {},
   "outputs": [],
   "source": [
    "padding = True"
   ]
  },
  {
   "cell_type": "markdown",
   "id": "d0c12e25-e5ea-491f-af40-e3129f07562f",
   "metadata": {},
   "source": [
    "#### Overwrite\n",
    "If the song has already been processed, should it overwrite old data.  \n",
    "Might be useful for songs that have had their ratings updated since it last writen.  "
   ]
  },
  {
   "cell_type": "code",
   "execution_count": null,
   "id": "7a475e1a-fd2b-4f4d-bb66-2e70934516be",
   "metadata": {},
   "outputs": [],
   "source": [
    "overwrite = False"
   ]
  },
  {
   "cell_type": "markdown",
   "id": "55ce1c85-d799-424a-8d50-3f85cacc53e4",
   "metadata": {},
   "source": [
    "### Plex Settings"
   ]
  },
  {
   "cell_type": "markdown",
   "id": "32ddd3be-1d6e-4c5b-99b9-3c573ea68e3c",
   "metadata": {},
   "source": [
    "#### Plex URL\n",
    "This should be the local IP address and port as if you would type it in your browser.  \n",
    "Example: `http://192.168.X.X:32400`"
   ]
  },
  {
   "cell_type": "code",
   "execution_count": null,
   "id": "83722fe1-924d-4eb1-a621-aae7108aedb1",
   "metadata": {},
   "outputs": [],
   "source": [
    "plex_url = \"http://192.168.X.X:32400\""
   ]
  },
  {
   "cell_type": "markdown",
   "id": "ecc09950-1561-4aba-8c19-28a4e785ee21",
   "metadata": {},
   "source": [
    "#### Plex Token\n",
    "Plex requires authentication, to get your token read more [here](https://support.plex.tv/articles/204059436-finding-an-authentication-token-x-plex-token/)"
   ]
  },
  {
   "cell_type": "code",
   "execution_count": null,
   "id": "20fdc9c5-cfc6-4639-9873-cd9a867f1aec",
   "metadata": {},
   "outputs": [],
   "source": [
    "plex_token = \"TOKEN_HERE\""
   ]
  },
  {
   "cell_type": "markdown",
   "id": "ccca1053-5301-4928-a35a-6d3ba69dc8bc",
   "metadata": {},
   "source": [
    "#### Music Library Name\n",
    "Library name as it would appear on the Plex website.  \n",
    "Case sensitive."
   ]
  },
  {
   "cell_type": "code",
   "execution_count": null,
   "id": "d27db190-570a-4192-971e-d5685241f720",
   "metadata": {},
   "outputs": [],
   "source": [
    "plex_library_name = \"Music\""
   ]
  },
  {
   "cell_type": "markdown",
   "id": "3f876c83-bff5-44c7-b054-2cf942848e32",
   "metadata": {},
   "source": [
    "### File Settings\n",
    "Assuming you are running this on a different machine / enviroment,  \n",
    "the file path that Plex gives could be different than what would be reachable  \n",
    "for this machine / enviroment.  \n",
    "\n",
    "This will just switches phrases.  "
   ]
  },
  {
   "cell_type": "markdown",
   "id": "f502bac9-5f8d-4709-b239-d352220bbfc4",
   "metadata": {},
   "source": [
    "#### Plex Path Prefix\n",
    "What Plex sees.  \n",
    "Leave `None` if its just `/music/artist/...` for Plex.  \n",
    "If it is like `/media/music/artist/...` change it to `/media`"
   ]
  },
  {
   "cell_type": "code",
   "execution_count": null,
   "id": "ea18a65b-a317-4238-a971-e71ce7831010",
   "metadata": {},
   "outputs": [],
   "source": [
    "path_prefix_plex = \"\""
   ]
  },
  {
   "cell_type": "markdown",
   "id": "65bd7798-8fdb-4a87-a9e0-994c39324113",
   "metadata": {},
   "source": [
    "#### Path Prefix Here\n",
    "What this enviroment sees.  \n",
    "Simmilar like Plex Path Prefix, just in the reverse.  "
   ]
  },
  {
   "cell_type": "code",
   "execution_count": null,
   "id": "08d94f0f-b73c-406a-ab42-440d12c0b0c0",
   "metadata": {},
   "outputs": [],
   "source": [
    "path_prefix_here = \"\""
   ]
  },
  {
   "cell_type": "markdown",
   "id": "6a04f704-ee39-4427-815d-b27cb35be8be",
   "metadata": {
    "tags": []
   },
   "source": [
    "## Imports"
   ]
  },
  {
   "cell_type": "code",
   "execution_count": null,
   "id": "f4536698-92ea-4a02-946b-7754a28359d6",
   "metadata": {},
   "outputs": [],
   "source": [
    "from plexapi.server import PlexServer\n",
    "import ntpath\n",
    "import random\n",
    "from tqdm import tqdm\n",
    "from IPython.display import clear_output"
   ]
  },
  {
   "cell_type": "markdown",
   "id": "87abb37c-6009-4288-88ba-e3d524ceceb4",
   "metadata": {},
   "source": [
    "## Getting Songs from Plex"
   ]
  },
  {
   "cell_type": "code",
   "execution_count": null,
   "id": "403b642d-1cd1-45b6-bdab-8783f5e2e06e",
   "metadata": {},
   "outputs": [],
   "source": [
    "def get_plex_library(plex_client: PlexServer, plex_library_name: str = plex_library_name) -> PlexServer.library:\n",
    "    \"\"\"With a given client, return the desired library object\"\"\"\n",
    "    return plex_client.library.section(plex_library_name)"
   ]
  },
  {
   "cell_type": "code",
   "execution_count": null,
   "id": "94a710d4-571f-4290-bc50-f1e9ac95f44a",
   "metadata": {
    "tags": []
   },
   "outputs": [],
   "source": [
    "def get_rated_songs_from_plex(plex_client: PlexServer, rating_out_of_ten: int) -> list:\n",
    "    \"\"\"With a given ratings (1-10) return a list of file dicts\"\"\"\n",
    "    \n",
    "    library = get_plex_library(plex_client)\n",
    "    search = library.search(libtype=\"track\", userRating=rating_out_of_ten)\n",
    "    \n",
    "    results = []\n",
    "    \n",
    "    for i in tqdm(search):\n",
    "        file_path = i.media[0].parts[0].file\n",
    "        file_path = file_path.replace(path_prefix_plex, path_prefix_here)\n",
    "            \n",
    "        file_path = ntpath.normpath(file_path)\n",
    "                \n",
    "        # IIRC I do this because Plex gives in a float, but I want it in a string form of an int\n",
    "        # It is just easier to translate\n",
    "        rating_out_of_ten = str(int(i.userRating))\n",
    "        \n",
    "        moods = []\n",
    "        for mood in i.moods:\n",
    "            try:\n",
    "                moods.append(mood.tag)\n",
    "            except:\n",
    "                pass\n",
    "        \n",
    "        duration_seconds = int(i.duration / 1000)\n",
    "        \n",
    "        results.append(\n",
    "            (file_path, rating_out_of_ten, duration_seconds ,moods)\n",
    "        )\n",
    "    \n",
    "    return results"
   ]
  },
  {
   "cell_type": "code",
   "execution_count": null,
   "id": "4b69035c-59d9-40ae-854e-172643d1b76b",
   "metadata": {},
   "outputs": [],
   "source": [
    "print(\"Connecting to Plex Server...\", end=\" \")\n",
    "plex_client = PlexServer(baseurl=plex_url, token=plex_token)\n",
    "print(\"CONNECTED!\")"
   ]
  },
  {
   "cell_type": "code",
   "execution_count": null,
   "id": "96c9cb8c-d3a5-4bc0-be8e-ff720a622cd9",
   "metadata": {
    "tags": []
   },
   "outputs": [],
   "source": [
    "# Just to see how many songs are in each rating\n",
    "stats = [0, 0, 0, 0, 0, 0, 0, 0, 0, 0]\n",
    "number_of_songs_too_short = 0\n",
    "number_of_songs_too_long = 0\n",
    "\n",
    "# List of all info for each rated song on Plex\n",
    "parsed_songs = []\n",
    "\n",
    "for i in range(10):\n",
    "    print(\"Getting songs \" + str(i+1) + \"/10\", end=\"\\r\")\n",
    "    rated_songs = get_rated_songs_from_plex(plex_client=plex_client, rating_out_of_ten=i+1)\n",
    "        \n",
    "    for song in rated_songs:\n",
    "        \n",
    "        # Check the length of the song, if not acceptable, skip\n",
    "        if song[2] < min_song_length_seconds:\n",
    "            number_of_songs_too_short += 1\n",
    "            continue\n",
    "        elif song[2] > max_song_length_seconds:\n",
    "            number_of_songs_too_long += 1\n",
    "            continue\n",
    "            \n",
    "        stats[i] += 1\n",
    "        parsed_songs.append(song)\n",
    "    clear_output()\n",
    "        \n",
    "# Shuffle for good measure\n",
    "random.shuffle(parsed_songs)\n",
    "        \n",
    "print(\"Songs that are too short:\\t\", number_of_songs_too_short)\n",
    "print(\"Songs that are too long:\\t\", number_of_songs_too_long)\n",
    "\n",
    "print(\"\\nTracks retrieved from Plex (0 - 10):\")\n",
    "print(stats)"
   ]
  },
  {
   "cell_type": "markdown",
   "id": "15951c63-51f4-458c-9d65-cab58c1e16c4",
   "metadata": {
    "tags": []
   },
   "source": [
    "## Audio Processing"
   ]
  },
  {
   "cell_type": "code",
   "execution_count": null,
   "id": "a5bf7256-808d-4a0e-b92e-e5261262d7b9",
   "metadata": {},
   "outputs": [],
   "source": [
    "import librosa\n",
    "from librosa import ParameterError"
   ]
  },
  {
   "cell_type": "code",
   "execution_count": null,
   "id": "b342da92-3fd1-49b8-bd2f-ff53fce7620e",
   "metadata": {},
   "outputs": [],
   "source": [
    "def make_frame_mfccs(path: str):\n",
    "    \"\"\"\n",
    "    Loads audiofile, splits into slices (the min length)\n",
    "    and then calculates all the mfccs for all the slices\n",
    "    \"\"\"\n",
    "    \n",
    "    audio, sr = librosa.load(path)\n",
    "    \n",
    "    if padding:\n",
    "        audio = librosa.util.fix_length(audio, size = max_song_length_seconds * sr)\n",
    "        \n",
    "    frames = librosa.util.frame(audio, frame_length = sr * min_song_length_seconds, hop_length = sr * min_song_length_seconds)\n",
    "    \n",
    "    frame_mfccs = []\n",
    "    \n",
    "    for i in range(frames.shape[1]):\n",
    "        frame_mfccs.append(\n",
    "            librosa.feature.mfcc(y=frames[:,i], sr = sr, n_mfcc = 13, hop_length = 512, n_fft = 2048)\n",
    "        )\n",
    "    \n",
    "    return frame_mfccs"
   ]
  },
  {
   "cell_type": "code",
   "execution_count": null,
   "id": "612ad350-4a01-4591-b1c1-3409e358c81d",
   "metadata": {},
   "outputs": [],
   "source": [
    "import hashlib\n",
    "import os\n",
    "import pickle"
   ]
  },
  {
   "cell_type": "code",
   "execution_count": null,
   "id": "958e51b7-043d-4a5d-83e3-6fcc86792346",
   "metadata": {},
   "outputs": [],
   "source": [
    "# This is to make pkl files\n",
    "# I need unique filenames that will never conflict\n",
    "def hash_string(string: str) -> str:\n",
    "    sha256_hash = hashlib.sha256()\n",
    "    sha256_hash.update(string.encode('utf-8'))\n",
    "    return sha256_hash.hexdigest()"
   ]
  },
  {
   "cell_type": "code",
   "execution_count": null,
   "id": "1f345e86-91d9-40f8-a011-8d46495756af",
   "metadata": {},
   "outputs": [],
   "source": [
    "# Checking if data folder exists\n",
    "if not os.path.exists(\"./data/padding-\" + str(padding) + '/min-' + str(min_song_length_seconds) + '_max-' + str(max_song_length_seconds)):\n",
    "    # Does not exist\n",
    "    os.makedirs(\"./data/padding-\" + str(padding) + '/min-' + str(min_song_length_seconds) + '_max-' + str(max_song_length_seconds))"
   ]
  },
  {
   "cell_type": "code",
   "execution_count": null,
   "id": "d98fc8a6-1bda-43ab-80f5-e421895d4bfd",
   "metadata": {},
   "outputs": [],
   "source": [
    "songs_loaded = 0\n",
    "songs_calced = 0"
   ]
  },
  {
   "cell_type": "code",
   "execution_count": null,
   "id": "c27c0078-9bcd-4f99-bad6-7757f3490be1",
   "metadata": {},
   "outputs": [],
   "source": [
    "for song in tqdm(parsed_songs):\n",
    "    \n",
    "    try:\n",
    "        print(\"Songs Loaded:\\t\", songs_loaded, \"\\t(%\", round(((songs_loaded/(songs_loaded + songs_calced)) * 100), 3), \")\")\n",
    "        print(\"Songs Calced:\\t\", songs_calced, \"\\t(%\", round(((songs_calced/(songs_loaded + songs_calced)) * 100), 3), \")\")\n",
    "    except ZeroDivisionError:\n",
    "        print(\"Songs Loaded:\\t0\\t(%0)\")\n",
    "        print(\"Songs Calced:\\t0\\t(%0)\")\n",
    "    \n",
    "    filename = hash_string(song[0].replace(path_prefix_here, \"\"))\n",
    "    \n",
    "    rating = song[1]\n",
    "    \n",
    "    try:\n",
    "        \n",
    "        if overwrite:\n",
    "            raise Exception\n",
    "        \n",
    "        with open(\"./data/padding-\" + str(padding) + \"/min-\" + str(min_song_length_seconds) + \"_max-\" + str(max_song_length_seconds) + \"/\" + filename + \".pkl\", \"rb\") as file:\n",
    "            json_pkl = pickle.load(file)\n",
    "            \n",
    "        songs_loaded += 1\n",
    "        \n",
    "    except:\n",
    "        \n",
    "        fmccs = make_frame_mfccs(song[0])\n",
    "        \n",
    "        with open(\"./data/padding-\" + str(padding) + \"/min-\" + str(min_song_length_seconds) + \"_max-\" + str(max_song_length_seconds) + \"/\" + filename + \".pkl\", \"wb\") as file:\n",
    "            json_pkl = pickle.dump({\"fmccs\": fmccs, \"duration\": song[2], \"rating\": song[1]}, file)\n",
    "        \n",
    "        songs_calced += 1\n",
    "        \n",
    "    clear_output()\n"
   ]
  }
 ],
 "metadata": {
  "kernelspec": {
   "display_name": "Python 3 (ipykernel)",
   "language": "python",
   "name": "python3"
  },
  "language_info": {
   "codemirror_mode": {
    "name": "ipython",
    "version": 3
   },
   "file_extension": ".py",
   "mimetype": "text/x-python",
   "name": "python",
   "nbconvert_exporter": "python",
   "pygments_lexer": "ipython3",
   "version": "3.9.13"
  }
 },
 "nbformat": 4,
 "nbformat_minor": 5
}
